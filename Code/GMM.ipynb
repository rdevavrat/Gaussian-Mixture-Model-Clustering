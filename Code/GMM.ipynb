{
 "cells": [
  {
   "cell_type": "code",
   "execution_count": 1,
   "metadata": {},
   "outputs": [],
   "source": [
    "# Import necessary libraries\n",
    "import numpy as np\n",
    "import matplotlib.pyplot as plt\n",
    "from scipy.stats import multivariate_normal\n",
    "import pandas as pd\n",
    "from numpy.linalg import eig   \n",
    "from sklearn import metrics \n",
    "import random\n",
    "from sklearn.decomposition import PCA\n",
    "import sys"
   ]
  },
  {
   "cell_type": "code",
   "execution_count": 2,
   "metadata": {},
   "outputs": [],
   "source": [
    "# Read input data\n",
    "inputData = pd.read_csv(\"Dataset.txt\", sep='\\t', lineterminator='\\n', header=None)\n",
    "data = np.array(inputData.iloc[:,2:])\n",
    "groundTruthClusters = np.array(inputData[inputData.columns[1:2]])"
   ]
  },
  {
   "cell_type": "code",
   "execution_count": 3,
   "metadata": {},
   "outputs": [],
   "source": [
    "# Assign Parameters\n",
    "Mu = [[0,0],[1,1]]\n",
    "sigmas = [[[1,1],[1,1]],[[2,2],[2,2]]]\n",
    "pi = [0.5,0.5]\n",
    "maxIter = 100"
   ]
  },
  {
   "cell_type": "code",
   "execution_count": 4,
   "metadata": {},
   "outputs": [],
   "source": [
    "#######################################################################\n",
    "# Expectation-Maximization function\n",
    "#######################################################################\n",
    "def GMM(data,mu,sigma,phi,iterations):\n",
    "    \n",
    "    # Copy the parameters to new variables\n",
    "    Phi = np.copy(phi)\n",
    "    Mu = np.copy(mu)\n",
    "    Sigma = np.copy(sigma)\n",
    "    Sigma = np.nan_to_num(Sigma)\n",
    "    prob_x = np.zeros((len(Mu),len(data)))\n",
    "    num_clusters = len(Mu)\n",
    "    num_data = len(data)\n",
    "    \n",
    "    ############ Expectation step ############\n",
    "    \n",
    "    # Use the probability density function to calculate the probability of data points being in different clusters\n",
    "    for i in range(num_clusters):\n",
    "        prob_x[i] =  Phi[i]*multivariate_normal.pdf(data, mean=Mu[i], cov=Sigma[i],allow_singular = True)\n",
    "    prob_x = prob_x/np.sum(prob_x,axis=0)\n",
    "    class_vector = np.argmax(prob_x,axis=0)\n",
    "    \n",
    "    ############ Maximization step ############\n",
    "    \n",
    "    # Calculate maximum  log-likelihood and recompute the parameters until they converge\n",
    "    for i in range(iterations):\n",
    "        Mu = np.zeros(Mu.shape)\n",
    "        Sigma = np.zeros(Sigma.shape)\n",
    "        for i in range(num_clusters):\n",
    "            Phi[i] = np.mean(prob_x[i])\n",
    "            Mu[i] = np.sum(prob_x[i][:,None] * data , axis=0)/np.sum(prob_x[i])\n",
    "            diff = (data-Mu[i])\n",
    "            for j in range(num_data):\n",
    "                diff_T = np.transpose(diff[j])\n",
    "                diff_T_r = diff_T.reshape(len(diff[j]),1)\n",
    "                diff_sq = np.multiply(diff_T_r,diff[j])\n",
    "                Sigma[i] += np.dot(prob_x[i][j],diff_sq)\n",
    "            Sigma[i] = np.dot(1/np.sum(prob_x[i]),Sigma[i]) \n",
    "        for i in range(num_clusters):\n",
    "            prob_x[i] =  Phi[i]*multivariate_normal.pdf(data, mean=Mu[i], cov=Sigma[i],allow_singular = True)\n",
    "        prob_x = prob_x/np.sum(prob_x,axis=0)\n",
    "        class_vector = np.argmax(prob_x,axis=0)\n",
    "    return Mu,class_vector"
   ]
  },
  {
   "cell_type": "code",
   "execution_count": 5,
   "metadata": {},
   "outputs": [],
   "source": [
    "MuFinal,clusterLabels = GMM(data,Mu,sigmas,pi,maxIter)"
   ]
  },
  {
   "cell_type": "code",
   "execution_count": 6,
   "metadata": {},
   "outputs": [],
   "source": [
    "#######################################################################\n",
    "# Function to compute and plot PCA\n",
    "#######################################################################\n",
    "def plotPCA(data,labels,MuFinal):\n",
    "    \n",
    "    fig = plt.figure(figsize=(8,6))\n",
    "    ax = plt.subplot(111)\n",
    "    ax.spines['right'].set_visible(False)\n",
    "    ax.spines['top'].set_visible(False)\n",
    "    ax.yaxis.set_ticks_position('left')\n",
    "    ax.xaxis.set_ticks_position('bottom')\n",
    "    \n",
    "    lb=list(set(labels.astype(int)))\n",
    "    \n",
    "    colors=['red','green','blue','purple','black','orange','pink','magenta','brown','yellow']\n",
    "    \n",
    "    for i in range(len(MuFinal)):\n",
    "        x,y = data[labels.ravel()==i][:, 0].flatten(), data[labels.ravel()==i][:, 1].flatten()\n",
    "        plt.scatter(x,y, marker= 'o' ,color=colors[i], label=lb[i])\n",
    "    \n",
    "    plt.legend()\n",
    "    plt.title(\"GMM plot\")\n",
    "    plt.show()"
   ]
  },
  {
   "cell_type": "code",
   "execution_count": 7,
   "metadata": {},
   "outputs": [
    {
     "data": {
      "image/png": "[encoded data removed]",
      "text/plain": [
       "<Figure size 576x432 with 1 Axes>"
      ]
     },
     "metadata": {
      "needs_background": "light"
     },
     "output_type": "display_data"
    }
   ],
   "source": [
    "plotPCA(data,clusterLabels,MuFinal)"
   ]
  },
  {
   "cell_type": "code",
   "execution_count": 8,
   "metadata": {},
   "outputs": [],
   "source": [
    "#######################################################################\n",
    "# Function to compute Jaccard coefficient and Rand index\n",
    "#######################################################################\n",
    "def metric(data,groundTruthClusters,output):\n",
    "    m11=0\n",
    "    m10=0\n",
    "    m01=0\n",
    "    m00=0\n",
    "    \n",
    "    for i in range(0,len(data)):\n",
    "        for j in range(1,len(data)):\n",
    "            if((groundTruthClusters)[i] == (groundTruthClusters)[j] and output[i] == output[j]):\n",
    "                m11=m11+1\n",
    "            elif((groundTruthClusters)[i] == (groundTruthClusters)[j] and not (output[i] == output[j])):\n",
    "                m10=m10+1\n",
    "            elif(not((groundTruthClusters)[i] == (groundTruthClusters)[j]) and output[i] == output[j]):\n",
    "                m01=m01+1\n",
    "            elif(not((groundTruthClusters)[i] == (groundTruthClusters)[j]) and not(output[i] == output[j])):\n",
    "                m00=m00+1\n",
    "\n",
    "\n",
    "    jacard_coeff=float(m11)/float((m11+m01+m10))\n",
    "    print(\"Jaccard Coefficient: \", jacard_coeff)\n",
    "    rand_index=float((m11+m00))/float((m11+m00+m10+m01))\n",
    "    print(\"Rand Index: \", rand_index)"
   ]
  },
  {
   "cell_type": "code",
   "execution_count": 9,
   "metadata": {},
   "outputs": [
    {
     "name": "stdout",
     "output_type": "stream",
     "text": [
      "Jaccard Coefficient:  0.630362961622013\n",
      "Rand Index:  0.8035871743486974\n"
     ]
    }
   ],
   "source": [
    "# Compute Jaccard coefficient and Rand index\n",
    "metric(data,groundTruthClusters,clusterLabels)"
   ]
  }
 ],
 "metadata": {
  "kernelspec": {
   "display_name": "Python 3",
   "language": "python",
   "name": "python3"
  },
  "language_info": {
   "codemirror_mode": {
    "name": "ipython",
    "version": 3
   },
   "file_extension": ".py",
   "mimetype": "text/x-python",
   "name": "python",
   "nbconvert_exporter": "python",
   "pygments_lexer": "ipython3",
   "version": "3.7.3"
  }
 },
 "nbformat": 4,
 "nbformat_minor": 2
}
